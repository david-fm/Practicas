{
 "cells": [
  {
   "cell_type": "code",
   "execution_count": 3,
   "metadata": {},
   "outputs": [],
   "source": [
    "from keras.models import Sequential\n",
    "from keras.layers import Dense, Dropout, Activation, Input\n",
    "from keras.activations import sigmoid\n",
    "import pandas as pd\n",
    "from tf_idf import tf_idf\n",
    "from sklearn.preprocessing import LabelBinarizer\n",
    "import os\n",
    "\n",
    "\n",
    "PATH = \"/Users/davidflorezmazuera/Library/CloudStorage/GoogleDrive-270191@student.pwr.edu.pl/Mi unidad/Spanish_V2\""
   ]
  },
  {
   "cell_type": "code",
   "execution_count": 4,
   "metadata": {},
   "outputs": [
    {
     "name": "stdout",
     "output_type": "stream",
     "text": [
      "  book_id gender\n",
      "0     0_0   male\n",
      "1     1_0   male\n",
      "2     2_0   male\n",
      "3     3_0   male\n",
      "4     4_0   male\n"
     ]
    }
   ],
   "source": [
    "authors_path = os.path.join(PATH, 'authors-genre.csv')\n",
    "# Load the data\n",
    "# Load only the columns 1 and 3\n",
    "dataframe = pd.read_csv(authors_path, usecols=[1,3], sep=';')\n",
    "dataframe = dataframe.dropna()\n",
    "print (dataframe.head())\n"
   ]
  },
  {
   "cell_type": "code",
   "execution_count": 5,
   "metadata": {},
   "outputs": [
    {
     "ename": "TimeoutError",
     "evalue": "[Errno 60] Operation timed out",
     "output_type": "error",
     "traceback": [
      "\u001b[0;31m---------------------------------------------------------------------------\u001b[0m",
      "\u001b[0;31mTimeoutError\u001b[0m                              Traceback (most recent call last)",
      "\u001b[1;32m/Users/davidflorezmazuera/Library/CloudStorage/OneDrive-UNIVERSIDADDEMURCIA/PEPERASMUS/Practicas/text_analysis/MLP_study.ipynb Celda 3\u001b[0m in \u001b[0;36m<cell line: 5>\u001b[0;34m()\u001b[0m\n\u001b[1;32m      <a href='vscode-notebook-cell:/Users/davidflorezmazuera/Library/CloudStorage/OneDrive-UNIVERSIDADDEMURCIA/PEPERASMUS/Practicas/text_analysis/MLP_study.ipynb#W2sZmlsZQ%3D%3D?line=2'>3</a>\u001b[0m \u001b[39m#print(os.path.dirname(os.path.abspath('')))\u001b[39;00m\n\u001b[1;32m      <a href='vscode-notebook-cell:/Users/davidflorezmazuera/Library/CloudStorage/OneDrive-UNIVERSIDADDEMURCIA/PEPERASMUS/Practicas/text_analysis/MLP_study.ipynb#W2sZmlsZQ%3D%3D?line=3'>4</a>\u001b[0m sys\u001b[39m.\u001b[39mpath\u001b[39m.\u001b[39mappend(os\u001b[39m.\u001b[39mpath\u001b[39m.\u001b[39mdirname(os\u001b[39m.\u001b[39mpath\u001b[39m.\u001b[39mabspath(\u001b[39m'\u001b[39m\u001b[39m'\u001b[39m)))\n\u001b[0;32m----> <a href='vscode-notebook-cell:/Users/davidflorezmazuera/Library/CloudStorage/OneDrive-UNIVERSIDADDEMURCIA/PEPERASMUS/Practicas/text_analysis/MLP_study.ipynb#W2sZmlsZQ%3D%3D?line=4'>5</a>\u001b[0m \u001b[39mfrom\u001b[39;00m \u001b[39mweb_scrapping\u001b[39;00m\u001b[39m.\u001b[39;00m\u001b[39mscript\u001b[39;00m \u001b[39mimport\u001b[39;00m Library, Book\n\u001b[1;32m      <a href='vscode-notebook-cell:/Users/davidflorezmazuera/Library/CloudStorage/OneDrive-UNIVERSIDADDEMURCIA/PEPERASMUS/Practicas/text_analysis/MLP_study.ipynb#W2sZmlsZQ%3D%3D?line=6'>7</a>\u001b[0m path \u001b[39m=\u001b[39m os\u001b[39m.\u001b[39mpath\u001b[39m.\u001b[39mjoin(PATH, \u001b[39m'\u001b[39m\u001b[39mmetadata_cleaned.json\u001b[39m\u001b[39m'\u001b[39m)\n\u001b[1;32m      <a href='vscode-notebook-cell:/Users/davidflorezmazuera/Library/CloudStorage/OneDrive-UNIVERSIDADDEMURCIA/PEPERASMUS/Practicas/text_analysis/MLP_study.ipynb#W2sZmlsZQ%3D%3D?line=7'>8</a>\u001b[0m library \u001b[39m=\u001b[39m Library\u001b[39m.\u001b[39mfrom_books_path(path)\n",
      "File \u001b[0;32m~/Library/CloudStorage/OneDrive-UNIVERSIDADDEMURCIA/PEPERASMUS/Practicas/web_scrapping/script.py:17\u001b[0m, in \u001b[0;36m<module>\u001b[0;34m\u001b[0m\n\u001b[1;32m     15\u001b[0m \u001b[39mimport\u001b[39;00m \u001b[39mrequests\u001b[39;00m\n\u001b[1;32m     16\u001b[0m \u001b[39mfrom\u001b[39;00m \u001b[39mclean_text\u001b[39;00m \u001b[39mimport\u001b[39;00m clean_text\n\u001b[0;32m---> 17\u001b[0m \u001b[39mfrom\u001b[39;00m \u001b[39mentropy\u001b[39;00m \u001b[39mimport\u001b[39;00m entropy\n\u001b[1;32m     19\u001b[0m \u001b[39mclass\u001b[39;00m \u001b[39mBook\u001b[39;00m:\n\u001b[1;32m     20\u001b[0m     \u001b[39mdef\u001b[39;00m \u001b[39m__init__\u001b[39m(\u001b[39mself\u001b[39m, title, author, date, origin_country,language, subject, genre, digital_version, ocr):\n",
      "File \u001b[0;32m<frozen importlib._bootstrap>:991\u001b[0m, in \u001b[0;36m_find_and_load\u001b[0;34m(name, import_)\u001b[0m\n",
      "File \u001b[0;32m<frozen importlib._bootstrap>:975\u001b[0m, in \u001b[0;36m_find_and_load_unlocked\u001b[0;34m(name, import_)\u001b[0m\n",
      "File \u001b[0;32m<frozen importlib._bootstrap>:671\u001b[0m, in \u001b[0;36m_load_unlocked\u001b[0;34m(spec)\u001b[0m\n",
      "File \u001b[0;32m<frozen importlib._bootstrap_external>:839\u001b[0m, in \u001b[0;36mexec_module\u001b[0;34m(self, module)\u001b[0m\n",
      "File \u001b[0;32m<frozen importlib._bootstrap_external>:975\u001b[0m, in \u001b[0;36mget_code\u001b[0;34m(self, fullname)\u001b[0m\n",
      "File \u001b[0;32m<frozen importlib._bootstrap_external>:1033\u001b[0m, in \u001b[0;36mget_data\u001b[0;34m(self, path)\u001b[0m\n",
      "\u001b[0;31mTimeoutError\u001b[0m: [Errno 60] Operation timed out"
     ]
    }
   ],
   "source": [
    "\n",
    "# Import metadata_cleaned.json\n",
    "import sys\n",
    "#print(os.path.dirname(os.path.abspath('')))\n",
    "sys.path.append(os.path.dirname(os.path.abspath('')))\n",
    "from web_scrapping.script import Library, Book\n",
    "\n",
    "path = os.path.join(PATH, 'metadata_cleaned.json')\n",
    "library = Library.from_books_path(path)\n",
    "# Get the words from the metadata of a book or set of books\n",
    "def get_words_from_metadata(library: Library, book_id: str):\n",
    "    '''\n",
    "        Input: library - Library object\n",
    "               book_id - id of the book\n",
    "               Output: words - int'''\n",
    "    id_in_metadata = book_id.split('_')[0]\n",
    "    # each book in metadata_cleaned.json has an id that is the same that id_in_metadata \n",
    "    books = library.search('book_id', id_in_metadata)\n",
    "    return books[0].words\n"
   ]
  },
  {
   "cell_type": "code",
   "execution_count": null,
   "metadata": {},
   "outputs": [
    {
     "name": "stdout",
     "output_type": "stream",
     "text": [
      "  book_id gender   words\n",
      "0     0_0   male  108712\n",
      "1     1_0   male   10160\n",
      "2     2_0   male    9046\n",
      "3     3_0   male   10955\n",
      "4     4_0   male   16000\n"
     ]
    }
   ],
   "source": [
    "# Createe a new column in the dataframe with the words of the book\n",
    "dataframe['words'] = dataframe['book_id'].apply(lambda book_id: get_words_from_metadata(library, book_id))\n",
    "print(dataframe.head())"
   ]
  },
  {
   "cell_type": "code",
   "execution_count": null,
   "metadata": {},
   "outputs": [
    {
     "data": {
      "text/html": [
       "<div>\n",
       "<style scoped>\n",
       "    .dataframe tbody tr th:only-of-type {\n",
       "        vertical-align: middle;\n",
       "    }\n",
       "\n",
       "    .dataframe tbody tr th {\n",
       "        vertical-align: top;\n",
       "    }\n",
       "\n",
       "    .dataframe thead th {\n",
       "        text-align: right;\n",
       "    }\n",
       "</style>\n",
       "<table border=\"1\" class=\"dataframe\">\n",
       "  <thead>\n",
       "    <tr style=\"text-align: right;\">\n",
       "      <th></th>\n",
       "      <th>book_id</th>\n",
       "      <th>gender</th>\n",
       "      <th>words</th>\n",
       "    </tr>\n",
       "  </thead>\n",
       "  <tbody>\n",
       "    <tr>\n",
       "      <th>77</th>\n",
       "      <td>81_0</td>\n",
       "      <td>female</td>\n",
       "      <td>4718</td>\n",
       "    </tr>\n",
       "    <tr>\n",
       "      <th>122</th>\n",
       "      <td>139_0</td>\n",
       "      <td>female</td>\n",
       "      <td>1498</td>\n",
       "    </tr>\n",
       "    <tr>\n",
       "      <th>127</th>\n",
       "      <td>1000_0</td>\n",
       "      <td>female</td>\n",
       "      <td>848</td>\n",
       "    </tr>\n",
       "    <tr>\n",
       "      <th>137</th>\n",
       "      <td>150_0</td>\n",
       "      <td>female</td>\n",
       "      <td>23487</td>\n",
       "    </tr>\n",
       "    <tr>\n",
       "      <th>169</th>\n",
       "      <td>174_0</td>\n",
       "      <td>female</td>\n",
       "      <td>68000</td>\n",
       "    </tr>\n",
       "    <tr>\n",
       "      <th>172</th>\n",
       "      <td>177_0</td>\n",
       "      <td>female</td>\n",
       "      <td>9300</td>\n",
       "    </tr>\n",
       "    <tr>\n",
       "      <th>256</th>\n",
       "      <td>246_0</td>\n",
       "      <td>female</td>\n",
       "      <td>15243</td>\n",
       "    </tr>\n",
       "    <tr>\n",
       "      <th>297</th>\n",
       "      <td>287_0</td>\n",
       "      <td>female</td>\n",
       "      <td>61589</td>\n",
       "    </tr>\n",
       "    <tr>\n",
       "      <th>331</th>\n",
       "      <td>320_0</td>\n",
       "      <td>female</td>\n",
       "      <td>395758</td>\n",
       "    </tr>\n",
       "    <tr>\n",
       "      <th>337</th>\n",
       "      <td>326_0</td>\n",
       "      <td>female</td>\n",
       "      <td>8781</td>\n",
       "    </tr>\n",
       "    <tr>\n",
       "      <th>363</th>\n",
       "      <td>350_0</td>\n",
       "      <td>female</td>\n",
       "      <td>37143</td>\n",
       "    </tr>\n",
       "    <tr>\n",
       "      <th>678</th>\n",
       "      <td>637_0</td>\n",
       "      <td>male</td>\n",
       "      <td>219293</td>\n",
       "    </tr>\n",
       "    <tr>\n",
       "      <th>56</th>\n",
       "      <td>57_0</td>\n",
       "      <td>male</td>\n",
       "      <td>6078</td>\n",
       "    </tr>\n",
       "    <tr>\n",
       "      <th>536</th>\n",
       "      <td>507_0</td>\n",
       "      <td>male</td>\n",
       "      <td>25898</td>\n",
       "    </tr>\n",
       "    <tr>\n",
       "      <th>85</th>\n",
       "      <td>91_0</td>\n",
       "      <td>male</td>\n",
       "      <td>775</td>\n",
       "    </tr>\n",
       "    <tr>\n",
       "      <th>748</th>\n",
       "      <td>707_0</td>\n",
       "      <td>male</td>\n",
       "      <td>13225</td>\n",
       "    </tr>\n",
       "    <tr>\n",
       "      <th>396</th>\n",
       "      <td>373_0</td>\n",
       "      <td>male</td>\n",
       "      <td>14540</td>\n",
       "    </tr>\n",
       "    <tr>\n",
       "      <th>34</th>\n",
       "      <td>34_0</td>\n",
       "      <td>male</td>\n",
       "      <td>54286</td>\n",
       "    </tr>\n",
       "    <tr>\n",
       "      <th>924</th>\n",
       "      <td>876_0</td>\n",
       "      <td>male</td>\n",
       "      <td>400</td>\n",
       "    </tr>\n",
       "    <tr>\n",
       "      <th>3</th>\n",
       "      <td>3_0</td>\n",
       "      <td>male</td>\n",
       "      <td>10955</td>\n",
       "    </tr>\n",
       "    <tr>\n",
       "      <th>779</th>\n",
       "      <td>738_0</td>\n",
       "      <td>male</td>\n",
       "      <td>93182</td>\n",
       "    </tr>\n",
       "    <tr>\n",
       "      <th>59</th>\n",
       "      <td>60_0</td>\n",
       "      <td>male</td>\n",
       "      <td>43791</td>\n",
       "    </tr>\n",
       "  </tbody>\n",
       "</table>\n",
       "</div>"
      ],
      "text/plain": [
       "    book_id  gender   words\n",
       "77     81_0  female    4718\n",
       "122   139_0  female    1498\n",
       "127  1000_0  female     848\n",
       "137   150_0  female   23487\n",
       "169   174_0  female   68000\n",
       "172   177_0  female    9300\n",
       "256   246_0  female   15243\n",
       "297   287_0  female   61589\n",
       "331   320_0  female  395758\n",
       "337   326_0  female    8781\n",
       "363   350_0  female   37143\n",
       "678   637_0    male  219293\n",
       "56     57_0    male    6078\n",
       "536   507_0    male   25898\n",
       "85     91_0    male     775\n",
       "748   707_0    male   13225\n",
       "396   373_0    male   14540\n",
       "34     34_0    male   54286\n",
       "924   876_0    male     400\n",
       "3       3_0    male   10955\n",
       "779   738_0    male   93182\n",
       "59     60_0    male   43791"
      ]
     },
     "execution_count": 24,
     "metadata": {},
     "output_type": "execute_result"
    }
   ],
   "source": [
    "# Filter the dataframe to get only the books that have more than 100 words\n",
    "dataframe = dataframe[dataframe['words'].apply(lambda words: words > 100)]\n",
    "# Subsampling to get same number of females and males\n",
    "\n",
    "female_dataframe = dataframe[dataframe['gender']=='female']\n",
    "male_dataframe = dataframe[dataframe['gender']=='male']\n",
    "number_of_females = female_dataframe['book_id'].count()\n",
    "male_dataframe = male_dataframe.sample(n=number_of_females, random_state=1)\n",
    "\n",
    "mixed_df = pd.concat((female_dataframe,male_dataframe))\n",
    "dataframe = mixed_df\n",
    "mixed_df"
   ]
  },
  {
   "cell_type": "code",
   "execution_count": null,
   "metadata": {},
   "outputs": [],
   "source": [
    "# Get the tf_idf of the books in \n",
    "# get the books\n",
    "books = []\n",
    "for book_id in dataframe['book_id']:\n",
    "    # get the .txt file\n",
    "    with open(f\"{PATH}/{book_id}.txt\") as f:\n",
    "        book = f.read()\n",
    "        books.append(book)\n",
    "X = tf_idf(books)\n",
    "\n"
   ]
  },
  {
   "cell_type": "code",
   "execution_count": null,
   "metadata": {},
   "outputs": [
    {
     "data": {
      "text/plain": [
       "((22, 1000), (22,))"
      ]
     },
     "execution_count": 26,
     "metadata": {},
     "output_type": "execute_result"
    }
   ],
   "source": [
    "# define the X and y\n",
    "x = X\n",
    "y = dataframe['gender'].values\n",
    "x.shape, y.shape"
   ]
  },
  {
   "cell_type": "code",
   "execution_count": null,
   "metadata": {},
   "outputs": [
    {
     "name": "stdout",
     "output_type": "stream",
     "text": [
      "['female' 'female' 'female' 'female' 'female' 'female' 'female' 'female'\n",
      " 'female' 'female' 'female' 'male' 'male' 'male' 'male' 'male' 'male'\n",
      " 'male' 'male' 'male' 'male' 'male']\n",
      "[['female']\n",
      " ['female']\n",
      " ['female']\n",
      " ['female']\n",
      " ['female']\n",
      " ['female']\n",
      " ['female']\n",
      " ['female']\n",
      " ['female']\n",
      " ['female']\n",
      " ['female']\n",
      " ['male']\n",
      " ['male']\n",
      " ['male']\n",
      " ['male']\n",
      " ['male']\n",
      " ['male']\n",
      " ['male']\n",
      " ['male']\n",
      " ['male']\n",
      " ['male']\n",
      " ['male']]\n"
     ]
    }
   ],
   "source": [
    "# One hot encode the labels\n",
    "from sklearn.preprocessing import OneHotEncoder\n",
    "enc = OneHotEncoder(handle_unknown='ignore')\n",
    "print(y)\n",
    "print(y.reshape(-1, 1))\n",
    "y = enc.fit_transform(y.reshape(-1, 1)).toarray()\n",
    "\n"
   ]
  },
  {
   "cell_type": "code",
   "execution_count": null,
   "metadata": {},
   "outputs": [
    {
     "name": "stdout",
     "output_type": "stream",
     "text": [
      "[[1. 0.]\n",
      " [1. 0.]\n",
      " [1. 0.]\n",
      " [1. 0.]\n",
      " [1. 0.]\n",
      " [1. 0.]\n",
      " [1. 0.]\n",
      " [1. 0.]\n",
      " [1. 0.]\n",
      " [1. 0.]\n",
      " [1. 0.]\n",
      " [0. 1.]\n",
      " [0. 1.]\n",
      " [0. 1.]\n",
      " [0. 1.]\n",
      " [0. 1.]\n",
      " [0. 1.]\n",
      " [0. 1.]\n",
      " [0. 1.]\n",
      " [0. 1.]\n",
      " [0. 1.]\n",
      " [0. 1.]]\n"
     ]
    }
   ],
   "source": [
    "print(y)"
   ]
  },
  {
   "cell_type": "code",
   "execution_count": null,
   "metadata": {},
   "outputs": [],
   "source": [
    "from sklearn.model_selection import train_test_split\n",
    "x_train, x_test, y_train, y_test = train_test_split(x, y)"
   ]
  },
  {
   "cell_type": "code",
   "execution_count": null,
   "metadata": {},
   "outputs": [
    {
     "data": {
      "text/plain": [
       "((16, 1000), (16, 2), (6, 1000), (6, 2))"
      ]
     },
     "execution_count": 30,
     "metadata": {},
     "output_type": "execute_result"
    }
   ],
   "source": [
    "x_train.shape, y_train.shape, x_test.shape, y_test.shape"
   ]
  },
  {
   "cell_type": "code",
   "execution_count": null,
   "metadata": {},
   "outputs": [
    {
     "name": "stdout",
     "output_type": "stream",
     "text": [
      "[[0. 1.]\n",
      " [0. 1.]\n",
      " [0. 1.]\n",
      " [0. 1.]\n",
      " [1. 0.]\n",
      " [1. 0.]\n",
      " [0. 1.]\n",
      " [0. 1.]\n",
      " [1. 0.]\n",
      " [1. 0.]\n",
      " [1. 0.]\n",
      " [1. 0.]\n",
      " [1. 0.]\n",
      " [1. 0.]\n",
      " [0. 1.]\n",
      " [1. 0.]]\n"
     ]
    }
   ],
   "source": [
    "print(y_train)\n"
   ]
  },
  {
   "cell_type": "code",
   "execution_count": null,
   "metadata": {},
   "outputs": [],
   "source": [
    "# Create a sequential model that has as input the vectorized text in a dict of 1000 words\n",
    "# and as output 2 classes (male and female)\n",
    "model = Sequential()\n",
    "model.add(Input(shape=(1000,)))\n",
    "model.add(Dense(units=512))\n",
    "model.add(Activation(sigmoid))\n",
    "model.add(Dropout(0.5))\n",
    "model.add(Dense(units=512))\n",
    "model.add(Activation(sigmoid))\n",
    "model.add(Dropout(0.5))\n",
    "model.add(Dense(units=2))\n",
    "model.add(Activation('softmax'))\n",
    "\n",
    "# Compile the model\n",
    "model.compile(loss='categorical_crossentropy',\n",
    "                optimizer='adam',\n",
    "                metrics=['accuracy'])\n"
   ]
  },
  {
   "cell_type": "code",
   "execution_count": null,
   "metadata": {},
   "outputs": [
    {
     "name": "stdout",
     "output_type": "stream",
     "text": [
      "Epoch 1/5\n",
      "6/6 [==============================] - 1s 37ms/step - loss: 1.2589 - accuracy: 0.4167 - val_loss: 1.1655 - val_accuracy: 0.2500\n",
      "Epoch 2/5\n",
      "6/6 [==============================] - 0s 15ms/step - loss: 1.1221 - accuracy: 0.5000 - val_loss: 1.0227 - val_accuracy: 0.2500\n",
      "Epoch 3/5\n",
      "6/6 [==============================] - 0s 15ms/step - loss: 0.8103 - accuracy: 0.5000 - val_loss: 0.5988 - val_accuracy: 0.7500\n",
      "Epoch 4/5\n",
      "6/6 [==============================] - 0s 16ms/step - loss: 0.9583 - accuracy: 0.5833 - val_loss: 0.8799 - val_accuracy: 0.2500\n",
      "Epoch 5/5\n",
      "6/6 [==============================] - 0s 16ms/step - loss: 0.7440 - accuracy: 0.4167 - val_loss: 0.9525 - val_accuracy: 0.2500\n"
     ]
    },
    {
     "data": {
      "text/plain": [
       "<keras.callbacks.History at 0x16dbc9940>"
      ]
     },
     "execution_count": 33,
     "metadata": {},
     "output_type": "execute_result"
    }
   ],
   "source": [
    "# Train the model\n",
    "model.fit(  x=x_train.toarray(), \n",
    "            y=y_train,\n",
    "            batch_size=2,\n",
    "            epochs=5,\n",
    "            verbose=1,\n",
    "            validation_split=0.2,\n",
    "            shuffle=True)"
   ]
  },
  {
   "cell_type": "code",
   "execution_count": null,
   "metadata": {},
   "outputs": [],
   "source": [
    "def transform_y(y):\n",
    "    '''\n",
    "        Transform the one hot encoded y to the original y\n",
    "        '''\n",
    "    return enc.inverse_transform(y)"
   ]
  },
  {
   "cell_type": "code",
   "execution_count": null,
   "metadata": {},
   "outputs": [
    {
     "name": "stdout",
     "output_type": "stream",
     "text": [
      "1/1 [==============================] - 0s 14ms/step\n"
     ]
    },
    {
     "data": {
      "image/png": "[encoded data removed]",
      "text/plain": [
       "<Figure size 432x288 with 2 Axes>"
      ]
     },
     "metadata": {
      "needs_background": "light"
     },
     "output_type": "display_data"
    },
    {
     "name": "stdout",
     "output_type": "stream",
     "text": [
      "Accuracy: 0.6666666666666666\n"
     ]
    }
   ],
   "source": [
    "from sklearn.metrics import confusion_matrix, accuracy_score\n",
    "import seaborn as sns\n",
    "import matplotlib.pyplot as plt\n",
    "y_pred = model.predict(x_test.toarray())\n",
    "y_pred_transformed = transform_y(y_pred)\n",
    "y_test_transformed = transform_y(y_test)\n",
    "cm = confusion_matrix(y_test_transformed, \n",
    "                      y_pred_transformed)\n",
    "# create df so that the labels are in the correct order\n",
    "df = pd.DataFrame(cm,\n",
    "                  index=['female','male'],\n",
    "                  columns=['female','male'])\n",
    "sns.heatmap(df, annot=True)\n",
    "plt.xlabel('Predicted')\n",
    "plt.ylabel('Truth')\n",
    "plt.show()\n",
    "print('Accuracy: '+ str(accuracy_score(y_test.argmax(axis=1), y_pred.argmax(axis=1))))"
   ]
  }
 ],
 "metadata": {
  "kernelspec": {
   "display_name": "torch-gpu",
   "language": "python",
   "name": "python3"
  },
  "language_info": {
   "codemirror_mode": {
    "name": "ipython",
    "version": 3
   },
   "file_extension": ".py",
   "mimetype": "text/x-python",
   "name": "python",
   "nbconvert_exporter": "python",
   "pygments_lexer": "ipython3",
   "version": "3.8.13"
  },
  "orig_nbformat": 4
 },
 "nbformat": 4,
 "nbformat_minor": 2
}
